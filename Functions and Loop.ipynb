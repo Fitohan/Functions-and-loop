{
 "cells": [
  {
   "cell_type": "markdown",
   "id": "9a77fd83",
   "metadata": {},
   "source": [
    "## 1. \n",
    "\n",
    "Write a program that reads words from the user until the user enters a blank line. \n",
    "\n",
    "After the user enters a blank line your program should display each word entered by the user exactly once. \n",
    "\n",
    "The words should be displayed in the same order that they were first entered. \n",
    "\n",
    "For example, if the user enters:\n",
    "\n",
    "- chioma\n",
    "- naylo\n",
    "- chioma\n",
    "- uju\n",
    "- naylo\n",
    "\n",
    "\n",
    "then your program should display:\n",
    "\n",
    "- chioma\n",
    "- naylo\n",
    "- uju"
   ]
  },
  {
   "cell_type": "code",
   "execution_count": null,
   "id": "65abc5e6",
   "metadata": {},
   "outputs": [],
   "source": [
    "Words = []\n",
    "print('Enter lines of text.')\n",
    "print('Enter an empty line to quit.')\n",
    "\n",
    "Users = input(\"Enter first line of text : \")\n",
    "             \n",
    "while Users != \"\":   \n",
    "    \n",
    "    if Users  not in Words:\n",
    "        Words.append(Users)\n",
    "    Users = input(\"Enter next line of text : \")\n",
    "    print('Your lines were:')   \n",
    "    \n",
    "for Users in Words:\n",
    "    \n",
    "    print(Users)\n",
    "    \n",
    "    "
   ]
  },
  {
   "cell_type": "markdown",
   "id": "1b39a621",
   "metadata": {},
   "source": [
    "# 2. \n",
    "An online vendor provides express shipping for many of its items at a rate of $ 10.95 for the first item in an order, and $2.95 for each subsequent item in the same order.\n",
    "\n",
    "Write a function that takes the number of items in the order as its only parameter.\n",
    "\n",
    "Return the shipping charge for the order as the function’s result. \n",
    "\n",
    "Include a main program that reads the number of items purchased from the user and displays the\n",
    "shipping charge."
   ]
  },
  {
   "cell_type": "code",
   "execution_count": 11,
   "id": "636805df",
   "metadata": {},
   "outputs": [],
   "source": [
    "first_shipping_rate = 10.95\n",
    "subsequent_shipping_rate = 2.95\n",
    "\n",
    "def calculate(items_ordered):\n",
    "    if items_ordered == 1:\n",
    "        return first_shipping_rate\n",
    "    else:\n",
    "        return first_shipping_rate + ((items_ordered-1) * subsequent_shipping_rate)\n",
    "    if _name_ == \"_main_\":\n",
    "        item_ordered=int(input(\"Enter the quantity of product in your order: \"))\n",
    "        if item_ordered !=0:\n",
    "            total_shipping = calculate(items_ordered)\n",
    "            print(f\"total_shipping\")\n",
    "            else:\n",
    "                print(\"please enter a valid quantity\")"
   ]
  },
  {
   "cell_type": "markdown",
   "id": "a38782c4",
   "metadata": {},
   "source": [
    "## 3. \n",
    "\n",
    "What concept is referred to as self-created data type?"
   ]
  },
  {
   "cell_type": "markdown",
   "id": "07a18b9d",
   "metadata": {},
   "source": [
    "Self-created data type is a reference to th current instance of the class and is used to access variables that belongs to the class .\n",
    "It is the first parameter of any function in the class and it can be represented with any word not necessary self."
   ]
  },
  {
   "cell_type": "markdown",
   "id": "789a9786",
   "metadata": {},
   "source": [
    "## 4. \n",
    "\n",
    "Look at the code snippet attached, what is the reason for the error? Re-write the  code to give the right output."
   ]
  },
  {
   "cell_type": "markdown",
   "id": "a0f2ca13",
   "metadata": {},
   "source": [
    "class country:\n",
    "  def __init__(self, location, population, landmass, government):\n",
    "    self.location = location\n",
    "    self.population = population\n",
    "    self.landmass = landmass\n",
    "    self.government = government\n",
    " \n",
    "  \n",
    "\n",
    "  def info():\n",
    "      print(\"Zamunda is located at  \" + self.location + \" with total population of  \" + self.population + \" and landmass of \" + landmass + \" with \" + government + \" as type of government \")\n",
    "\n",
    "Z = country(\"Wakanda\", 500,000, 200,800, \"monarchy\")\n",
    "\n",
    "\n",
    "print(Z)"
   ]
  },
  {
   "cell_type": "code",
   "execution_count": 23,
   "id": "0dca4f32",
   "metadata": {},
   "outputs": [
    {
     "name": "stdout",
     "output_type": "stream",
     "text": [
      "Zamunda is located at  Wakanda with total population of  500000 and landmass of 200800 with monarchy as type of government \n"
     ]
    }
   ],
   "source": [
    "#The reason for the error is that: __init__() takes 5 positional arguments but 7 were given\n",
    "\n",
    "\n",
    "\n",
    "class country:\n",
    "    def __init__(self, location, population, landmass, government):\n",
    "        self.location = location\n",
    "        self.population = population\n",
    "        self.landmass = landmass\n",
    "        self.government = government\n",
    " \n",
    "  \n",
    "\n",
    "    def info(self):\n",
    "              print(\"Zamunda is located at  \" + str(self.location) + \" with total population of  \" + str(self.population) + \" and landmass of \" + str(self.landmass) + \" with \" + str(self.government) + \" as type of government \")\n",
    "\n",
    "Z = country(\"Wakanda\", 500000, 200800, \"monarchy\")\n",
    "\n",
    "Z.info()\n",
    "\n"
   ]
  },
  {
   "cell_type": "markdown",
   "id": "f0044e5c",
   "metadata": {},
   "source": [
    "## 5. \n",
    "\n",
    "Create an animal object with attributes, print out a sentence describing the animal with your attributes."
   ]
  },
  {
   "cell_type": "code",
   "execution_count": null,
   "id": "d99cebef",
   "metadata": {},
   "outputs": [],
   "source": [
    "class animal:\n",
    "    def _init_ (self, name ,gender,color ,weight):\n",
    "        self.name  = name\n",
    "        self.gender = gender\n",
    "        self.color = color\n",
    "        self.weight= weight\n",
    "        \n",
    "        \n",
    "    def info(self):\n",
    "            print(\"My sister has a pet named\" + str(self.name)+ \" a\" + str(self.gender) + \"pet with a\" + str(self.color)+ \"hair weighs\" + (self.weight)+\"kg\")\n",
    "    \n",
    "my_pet = Animal(\"Rex\",\"male\",\"brownish\",11)    \n",
    "    \n",
    "my_pet.info()   "
   ]
  },
  {
   "cell_type": "markdown",
   "id": "4257d76c",
   "metadata": {},
   "source": [
    "## 6\n",
    "\n",
    "Wrtie a function that takes in two parametrs (two strings).\n",
    "\n",
    "The first parameter should be a word and second should be a letter. \n",
    "\n",
    "The function returns the number of times that letter appears in the word. \n",
    "\n",
    "The function should be case insensitive (does not matter if the input is lowercase or uppercase). \n",
    "\n",
    "If the letter is not found in the word, the function should return 0."
   ]
  },
  {
   "cell_type": "code",
   "execution_count": null,
   "id": "669456ae",
   "metadata": {},
   "outputs": [],
   "source": [
    "def character(word, x):\n",
    "  count = 0\n",
    "  for letter in word:\n",
    "    if letter == x:\n",
    "      count += 1\n",
    "  return count\n",
    "print(character(\"church\",\"c\"))"
   ]
  }
 ],
 "metadata": {
  "kernelspec": {
   "display_name": "Python 3",
   "language": "python",
   "name": "python3"
  },
  "language_info": {
   "codemirror_mode": {
    "name": "ipython",
    "version": 3
   },
   "file_extension": ".py",
   "mimetype": "text/x-python",
   "name": "python",
   "nbconvert_exporter": "python",
   "pygments_lexer": "ipython3",
   "version": "3.8.8"
  }
 },
 "nbformat": 4,
 "nbformat_minor": 5
}
